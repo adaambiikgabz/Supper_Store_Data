{
 "cells": [
  {
   "cell_type": "code",
   "execution_count": 1,
   "id": "170cf0e5",
   "metadata": {},
   "outputs": [],
   "source": [
    "##Importing the necessary packages\n",
    "import pandas as pd\n",
    "import numpy as np\n",
    "import matplotlib.pyplot as plt\n",
    "import seaborn as sns\n",
    "import warnings\n",
    "warnings.filterwarnings('ignore')\n",
    "\n",
    "%matplotlib inline\n",
    "pd.set_option('display.max_colwidth',None)\n",
    "pd.set_option('display.max_columns',None)"
   ]
  },
  {
   "cell_type": "markdown",
   "id": "03f79f25",
   "metadata": {},
   "source": [
    "We use the pandas library to load the data from the CSV file into a DataFrame named data. This DataFrame will contain our dataset for analysis."
   ]
  },
  {
   "cell_type": "code",
   "execution_count": 2,
   "id": "d66c88fd",
   "metadata": {},
   "outputs": [],
   "source": [
    "# Define the full path to your CSV file\n",
    "file_path = \"/home/angel/Downloads/superstore data (1).csv\""
   ]
  },
  {
   "cell_type": "code",
   "execution_count": 5,
   "id": "f7e030bb",
   "metadata": {},
   "outputs": [],
   "source": [
    "# Load the data\n",
    "data = pd.read_csv(file_path, encoding='latin1')\n"
   ]
  },
  {
   "cell_type": "code",
   "execution_count": 6,
   "id": "fb44c8b1",
   "metadata": {},
   "outputs": [
    {
     "name": "stdout",
     "output_type": "stream",
     "text": [
      "       Row ID         Order ID  Order Date Ship Date       Ship Mode  \\\n",
      "0       42433     AG-2011-2040    1/1/2011  6/1/2011  Standard Class   \n",
      "1       22253    IN-2011-47883    1/1/2011  8/1/2011  Standard Class   \n",
      "2       48883     HU-2011-1220    1/1/2011  5/1/2011    Second Class   \n",
      "3       11731  IT-2011-3647632    1/1/2011  5/1/2011    Second Class   \n",
      "4       22255    IN-2011-47883    1/1/2011  8/1/2011  Standard Class   \n",
      "...       ...              ...         ...       ...             ...   \n",
      "51285   32593   CA-2014-115427  31-12-2014  4/1/2015  Standard Class   \n",
      "51286   47594     MO-2014-2560  31-12-2014  5/1/2015  Standard Class   \n",
      "51287    8857   MX-2014-110527  31-12-2014  2/1/2015    Second Class   \n",
      "51288    6852   MX-2014-114783  31-12-2014  6/1/2015  Standard Class   \n",
      "51289   36388   CA-2014-156720  31-12-2014  4/1/2015  Standard Class   \n",
      "\n",
      "      Customer ID     Customer Name      Segment         City  \\\n",
      "0        TB-11280   Toby Braunhardt     Consumer  Constantine   \n",
      "1        JH-15985       Joseph Holt     Consumer  Wagga Wagga   \n",
      "2          AT-735     Annie Thurman     Consumer     Budapest   \n",
      "3        EM-14140      Eugene Moren  Home Office    Stockholm   \n",
      "4        JH-15985       Joseph Holt     Consumer  Wagga Wagga   \n",
      "...           ...               ...          ...          ...   \n",
      "51285    EB-13975        Erica Bern    Corporate    Fairfield   \n",
      "51286     LP-7095         Liz Preis     Consumer       Agadir   \n",
      "51287    CM-12190  Charlotte Melton     Consumer      Managua   \n",
      "51288    TD-20995     Tamara Dahlen     Consumer       Juárez   \n",
      "51289    JM-15580     Jill Matthias     Consumer     Loveland   \n",
      "\n",
      "                  State        Country  Postal Code  Market   Region  \\\n",
      "0           Constantine        Algeria          NaN  Africa   Africa   \n",
      "1       New South Wales      Australia          NaN    APAC  Oceania   \n",
      "2              Budapest        Hungary          NaN    EMEA     EMEA   \n",
      "3             Stockholm         Sweden          NaN      EU    North   \n",
      "4       New South Wales      Australia          NaN    APAC  Oceania   \n",
      "...                 ...            ...          ...     ...      ...   \n",
      "51285        California  United States      94533.0      US     West   \n",
      "51286  Souss-Massa-Draâ        Morocco          NaN  Africa   Africa   \n",
      "51287           Managua      Nicaragua          NaN   LATAM  Central   \n",
      "51288         Chihuahua         Mexico          NaN   LATAM    North   \n",
      "51289          Colorado  United States      80538.0      US     West   \n",
      "\n",
      "             Product ID         Category Sub-Category  \\\n",
      "0      OFF-TEN-10000025  Office Supplies      Storage   \n",
      "1       OFF-SU-10000618  Office Supplies     Supplies   \n",
      "2      OFF-TEN-10001585  Office Supplies      Storage   \n",
      "3       OFF-PA-10001492  Office Supplies        Paper   \n",
      "4       FUR-FU-10003447        Furniture  Furnishings   \n",
      "...                 ...              ...          ...   \n",
      "51285   OFF-BI-10002103  Office Supplies      Binders   \n",
      "51286  OFF-WIL-10001069  Office Supplies      Binders   \n",
      "51287   OFF-LA-10004182  Office Supplies       Labels   \n",
      "51288   OFF-LA-10000413  Office Supplies       Labels   \n",
      "51289   OFF-FA-10003472  Office Supplies    Fasteners   \n",
      "\n",
      "                                          Product Name    Sales  Quantity  \\\n",
      "0                                  Tenex Lockers, Blue  408.300         2   \n",
      "1                             Acme Trimmer, High Speed  120.366         3   \n",
      "2                              Tenex Box, Single Width   66.120         4   \n",
      "3                          Enermax Note Cards, Premium   44.865         3   \n",
      "4                           Eldon Light Bulb, Duo Pack  113.670         5   \n",
      "...                                                ...      ...       ...   \n",
      "51285  Cardinal Slant-D Ring Binder, Heavy Gauge Vinyl   13.904         2   \n",
      "51286          Wilson Jones Hole Reinforcements, Clear    3.990         1   \n",
      "51287           Hon Color Coded Labels, 5000 Label Set   26.400         3   \n",
      "51288           Hon Legal Exhibit Labels, Alphabetical    7.120         1   \n",
      "51289                              Bagged Rubber Bands    3.024         3   \n",
      "\n",
      "       Discount    Profit  Shipping Cost Order Priority  \n",
      "0           0.0  106.1400          35.46         Medium  \n",
      "1           0.1   36.0360           9.72         Medium  \n",
      "2           0.0   29.6400           8.17           High  \n",
      "3           0.5  -26.0550           4.82           High  \n",
      "4           0.1   37.7700           4.70         Medium  \n",
      "...         ...       ...            ...            ...  \n",
      "51285       0.2    4.5188           0.89         Medium  \n",
      "51286       0.0    0.4200           0.49         Medium  \n",
      "51287       0.0   12.3600           0.35         Medium  \n",
      "51288       0.0    0.5600           0.20         Medium  \n",
      "51289       0.2   -0.6048           0.17         Medium  \n",
      "\n",
      "[51290 rows x 24 columns]\n"
     ]
    }
   ],
   "source": [
    "print(data)\n"
   ]
  },
  {
   "cell_type": "markdown",
   "id": "361ba7e5",
   "metadata": {},
   "source": [
    "- `head()` method: It displays the first few rows of the DataFrame to get an overview of the data.\n",
    "\n",
    "- `info()` method: It provides information about the data types of each column and the number of non-null values.\n",
    "\n",
    "- `describe()` method: It gives descriptive statistics of the numerical variables, such as mean, standard deviation, minimum, maximum, and quartiles.\n",
    "\n",
    "- `unique()` method: It helps to find unique categories in categorical variables. We used it specifically on the 'Market' column.\n"
   ]
  },
  {
   "cell_type": "code",
   "execution_count": 7,
   "id": "f757907a",
   "metadata": {},
   "outputs": [
    {
     "name": "stdout",
     "output_type": "stream",
     "text": [
      "   Row ID         Order ID Order Date Ship Date       Ship Mode Customer ID  \\\n",
      "0   42433     AG-2011-2040   1/1/2011  6/1/2011  Standard Class    TB-11280   \n",
      "1   22253    IN-2011-47883   1/1/2011  8/1/2011  Standard Class    JH-15985   \n",
      "2   48883     HU-2011-1220   1/1/2011  5/1/2011    Second Class      AT-735   \n",
      "3   11731  IT-2011-3647632   1/1/2011  5/1/2011    Second Class    EM-14140   \n",
      "4   22255    IN-2011-47883   1/1/2011  8/1/2011  Standard Class    JH-15985   \n",
      "\n",
      "     Customer Name      Segment         City            State    Country  \\\n",
      "0  Toby Braunhardt     Consumer  Constantine      Constantine    Algeria   \n",
      "1      Joseph Holt     Consumer  Wagga Wagga  New South Wales  Australia   \n",
      "2    Annie Thurman     Consumer     Budapest         Budapest    Hungary   \n",
      "3     Eugene Moren  Home Office    Stockholm        Stockholm     Sweden   \n",
      "4      Joseph Holt     Consumer  Wagga Wagga  New South Wales  Australia   \n",
      "\n",
      "   Postal Code  Market   Region        Product ID         Category  \\\n",
      "0          NaN  Africa   Africa  OFF-TEN-10000025  Office Supplies   \n",
      "1          NaN    APAC  Oceania   OFF-SU-10000618  Office Supplies   \n",
      "2          NaN    EMEA     EMEA  OFF-TEN-10001585  Office Supplies   \n",
      "3          NaN      EU    North   OFF-PA-10001492  Office Supplies   \n",
      "4          NaN    APAC  Oceania   FUR-FU-10003447        Furniture   \n",
      "\n",
      "  Sub-Category                 Product Name    Sales  Quantity  Discount  \\\n",
      "0      Storage          Tenex Lockers, Blue  408.300         2       0.0   \n",
      "1     Supplies     Acme Trimmer, High Speed  120.366         3       0.1   \n",
      "2      Storage      Tenex Box, Single Width   66.120         4       0.0   \n",
      "3        Paper  Enermax Note Cards, Premium   44.865         3       0.5   \n",
      "4  Furnishings   Eldon Light Bulb, Duo Pack  113.670         5       0.1   \n",
      "\n",
      "    Profit  Shipping Cost Order Priority  \n",
      "0  106.140          35.46         Medium  \n",
      "1   36.036           9.72         Medium  \n",
      "2   29.640           8.17           High  \n",
      "3  -26.055           4.82           High  \n",
      "4   37.770           4.70         Medium  \n",
      "<class 'pandas.core.frame.DataFrame'>\n",
      "RangeIndex: 51290 entries, 0 to 51289\n",
      "Data columns (total 24 columns):\n",
      " #   Column          Non-Null Count  Dtype  \n",
      "---  ------          --------------  -----  \n",
      " 0   Row ID          51290 non-null  int64  \n",
      " 1   Order ID        51290 non-null  object \n",
      " 2   Order Date      51290 non-null  object \n",
      " 3   Ship Date       51290 non-null  object \n",
      " 4   Ship Mode       51290 non-null  object \n",
      " 5   Customer ID     51290 non-null  object \n",
      " 6   Customer Name   51290 non-null  object \n",
      " 7   Segment         51290 non-null  object \n",
      " 8   City            51290 non-null  object \n",
      " 9   State           51290 non-null  object \n",
      " 10  Country         51290 non-null  object \n",
      " 11  Postal Code     9994 non-null   float64\n",
      " 12  Market          51290 non-null  object \n",
      " 13  Region          51290 non-null  object \n",
      " 14  Product ID      51290 non-null  object \n",
      " 15  Category        51290 non-null  object \n",
      " 16  Sub-Category    51290 non-null  object \n",
      " 17  Product Name    51290 non-null  object \n",
      " 18  Sales           51290 non-null  float64\n",
      " 19  Quantity        51290 non-null  int64  \n",
      " 20  Discount        51290 non-null  float64\n",
      " 21  Profit          51290 non-null  float64\n",
      " 22  Shipping Cost   51290 non-null  float64\n",
      " 23  Order Priority  51290 non-null  object \n",
      "dtypes: float64(5), int64(2), object(17)\n",
      "memory usage: 9.4+ MB\n",
      "None\n",
      "            Row ID   Postal Code         Sales      Quantity      Discount  \\\n",
      "count  51290.00000   9994.000000  51290.000000  51290.000000  51290.000000   \n",
      "mean   25645.50000  55190.379428    246.490581      3.476545      0.142908   \n",
      "std    14806.29199  32063.693350    487.565361      2.278766      0.212280   \n",
      "min        1.00000   1040.000000      0.444000      1.000000      0.000000   \n",
      "25%    12823.25000  23223.000000     30.758625      2.000000      0.000000   \n",
      "50%    25645.50000  56430.500000     85.053000      3.000000      0.000000   \n",
      "75%    38467.75000  90008.000000    251.053200      5.000000      0.200000   \n",
      "max    51290.00000  99301.000000  22638.480000     14.000000      0.850000   \n",
      "\n",
      "             Profit  Shipping Cost  \n",
      "count  51290.000000   51290.000000  \n",
      "mean      28.610982      26.375915  \n",
      "std      174.340972      57.296804  \n",
      "min    -6599.978000       0.000000  \n",
      "25%        0.000000       2.610000  \n",
      "50%        9.240000       7.790000  \n",
      "75%       36.810000      24.450000  \n",
      "max     8399.976000     933.570000  \n",
      "['Africa' 'APAC' 'EMEA' 'EU' 'US' 'LATAM' 'Canada']\n"
     ]
    }
   ],
   "source": [
    "# Display the first few rows of the dataframe\n",
    "print(data.head())\n",
    "\n",
    "# Check the data types and missing values\n",
    "print(data.info())\n",
    "\n",
    "# Check the summary statistics for numerical variables\n",
    "print(data.describe())\n",
    "\n",
    "# Check the unique categories in categorical variables\n",
    "print(data['Market'].unique())\n"
   ]
  },
  {
   "cell_type": "code",
   "execution_count": 8,
   "id": "7cb65ba9",
   "metadata": {},
   "outputs": [
    {
     "name": "stdout",
     "output_type": "stream",
     "text": [
      "Row ID                0\n",
      "Order ID              0\n",
      "Order Date            0\n",
      "Ship Date             0\n",
      "Ship Mode             0\n",
      "Customer ID           0\n",
      "Customer Name         0\n",
      "Segment               0\n",
      "City                  0\n",
      "State                 0\n",
      "Country               0\n",
      "Postal Code       41296\n",
      "Market                0\n",
      "Region                0\n",
      "Product ID            0\n",
      "Category              0\n",
      "Sub-Category          0\n",
      "Product Name          0\n",
      "Sales                 0\n",
      "Quantity              0\n",
      "Discount              0\n",
      "Profit                0\n",
      "Shipping Cost         0\n",
      "Order Priority        0\n",
      "dtype: int64\n"
     ]
    }
   ],
   "source": [
    "# Check for missing values\n",
    "print(data.isnull().sum())\n"
   ]
  },
  {
   "cell_type": "markdown",
   "id": "2dbd3401",
   "metadata": {},
   "source": [
    "- **Create a column for Unit price (sale/quantity):** We create a new column named 'Unit_price' by dividing the 'Sales' column by the 'Quantity' column. This calculation gives us the price per unit of the product.\n",
    "\n",
    "- **Convert Order Date and Ship Date to datetime format:** We convert the 'Order Date' and 'Ship Date' columns from string format to datetime format using the `pd.to_datetime()` function. This conversion allows us to perform date-based operations on these columns.\n",
    "\n",
    "- **Create columns for Year and Month:** We extract the year and month components from the 'Order Date' column and create new columns named 'Year' and 'Month'. This extraction helps us analyze sales trends and patterns over time.\n",
    "\n",
    "- **Calculate the interval between the order date and the shipping date in days:** We calculate the difference between the 'Ship Date' and 'Order Date' columns to determine the interval in days between when an order was placed and when it was shipped. This information can be useful for analyzing shipping efficiency and customer satisfaction.\n"
   ]
  },
  {
   "cell_type": "code",
   "execution_count": 9,
   "id": "848feead",
   "metadata": {},
   "outputs": [],
   "source": [
    "# Create a column for Unit price (sale/quantity)\n",
    "data['Unit_price'] = data['Sales'] / data['Quantity']\n",
    "\n",
    "# Convert Order Date and Ship Date to datetime format\n",
    "data['Order Date'] = pd.to_datetime(data['Order Date'])\n",
    "data['Ship Date'] = pd.to_datetime(data['Ship Date'])\n",
    "\n",
    "# Create columns for Year and Month\n",
    "data['Year'] = data['Order Date'].dt.year\n",
    "data['Month'] = data['Order Date'].dt.month\n",
    "\n",
    "# Calculate the interval between the order date and the shipping date in days\n",
    "data['Shipping_interval_days'] = (data['Ship Date'] - data['Order Date']).dt.days\n"
   ]
  },
  {
   "cell_type": "markdown",
   "id": "1062c814",
   "metadata": {},
   "source": [
    "- We created a new column called 'Unit_price' by dividing the 'Sales' by the 'Quantity' columns. This calculation yields the price per unit of the product.\n",
    "\n",
    "- We converted the 'Order Date' and 'Ship Date' columns to datetime format using the `pd.to_datetime()` function. This conversion allows for time-based operations to be performed on these columns.\n",
    "\n",
    "- Subsequently, we created new columns for 'Year' and 'Month' to extract the year and month components from the 'Order Date' column. This extraction facilitates analysis of sales trends and patterns over time.\n",
    "\n",
    "- Finally, we calculated the 'Shipping_interval_days' by subtracting the 'Order Date' from the 'Ship Date' and converting the result to days. This interval provides insights into the efficiency of the shipping process and customer satisfaction metrics.\n"
   ]
  },
  {
   "cell_type": "code",
   "execution_count": 10,
   "id": "f362eea3",
   "metadata": {},
   "outputs": [
    {
     "name": "stdout",
     "output_type": "stream",
     "text": [
      "               Sales        Profit\n",
      "Market                            \n",
      "APAC    3.585744e+06  436000.04900\n",
      "Africa  7.837732e+05   88871.63100\n",
      "Canada  6.692817e+04   17817.39000\n",
      "EMEA    8.061613e+05   43897.97100\n",
      "EU      2.938089e+06  372829.74150\n",
      "LATAM   2.164605e+06  221643.48708\n",
      "US      2.297201e+06  286397.02170\n"
     ]
    }
   ],
   "source": [
    "# Group by Market and calculate total sales and profit\n",
    "market_sales_profit = data.groupby('Market').agg({'Sales': 'sum', 'Profit': 'sum'})\n",
    "print(market_sales_profit)\n"
   ]
  },
  {
   "cell_type": "markdown",
   "id": "4b6d826b",
   "metadata": {},
   "source": [
    "- I grouped the data by the 'Market' column and used the `agg()` method to aggregate the 'Sales' and 'Profit' columns by summing them up for each market.\n"
   ]
  },
  {
   "cell_type": "markdown",
   "id": "5fb07843",
   "metadata": {},
   "source": [
    "\n",
    "\n",
    "### Question 1: What is the sales and profit per market?\n",
    "\n",
    "- **Sales and Profit per Market:**\n",
    "  - **APAC:**\n",
    "    - Sales: $3,585,744\n",
    "    - Profit: $436,000.049\n",
    "  - **Africa:**\n",
    "    - Sales: $783,773.2\n",
    "    - Profit: $88,871.631\n",
    "  - **Canada:**\n",
    "    - Sales: $66,928.17\n",
    "    - Profit: $17,817.39\n",
    "  - **EMEA:**\n",
    "    - Sales: $806,161.3\n",
    "    - Profit: $43,897.971\n",
    "  - **EU:**\n",
    "    - Sales: $2,938,089\n",
    "    - Profit: $372,829.7415\n",
    "  - **LATAM:**\n",
    "    - Sales: $2,164,605\n",
    "    - Profit: $221,643.48708\n",
    "  - **US:**\n",
    "    - Sales: $2,297,201\n",
    "    - Profit: $286,397.0217\n",
    "\n",
    "These figures represent the total sales and profit for each market. Let me know if you need any further information!"
   ]
  },
  {
   "cell_type": "markdown",
   "id": "cb5aac81",
   "metadata": {},
   "source": [
    "\n",
    "\n",
    "### Question 2: What is the most and least profitable market?\n",
    "\n",
    "- **Most Profitable Market:**\n",
    "  - The EU market has the highest total profit of $372,829.7415.\n",
    "\n",
    "- **Least Profitable Market:**\n",
    "  - The Canada market has the lowest total profit of $17,817.39.\n",
    "\n"
   ]
  },
  {
   "cell_type": "markdown",
   "id": "091f9a69",
   "metadata": {},
   "source": [
    "\n",
    "\n",
    "### Question 3: How are you going to increase the sales for the products that least bought?\n",
    "\n",
    "To increase sales for the products that are least bought, several strategies can be employed:\n",
    "\n",
    "1. **Targeted Marketing Campaigns:** Identify the target audience for the least bought products and create marketing campaigns tailored to their interests and needs.\n",
    "\n",
    "2. **Discounts and Promotions:** Offer discounts, promotions, or special offers for the least bought products to incentivize customers to purchase them.\n",
    "\n",
    "3. **Enhanced Product Visibility:** Improve the visibility of the least bought products by featuring them prominently on the company's website, in-store displays, or marketing materials.\n",
    "\n",
    "4. **Customer Feedback Analysis:** Analyze customer feedback and reviews to understand why the least bought products are not selling well. Use this insight to make necessary improvements or adjustments to the products.\n",
    "\n",
    "5. **Diversification of Product Offerings:** Consider diversifying the product offerings by introducing new variations or complementary products that appeal to the target market.\n"
   ]
  },
  {
   "cell_type": "code",
   "execution_count": 14,
   "id": "21d55e86",
   "metadata": {},
   "outputs": [
    {
     "data": {
      "image/png": "[encoded data removed]",
      "text/plain": [
       "<Figure size 1000x600 with 1 Axes>"
      ]
     },
     "metadata": {},
     "output_type": "display_data"
    }
   ],
   "source": [
    "import matplotlib.pyplot as plt\n",
    "import seaborn as sns\n",
    "\n",
    "# Create a scatter plot\n",
    "plt.figure(figsize=(10, 6))\n",
    "sns.scatterplot(x='Discount', y='Sales', data=data)\n",
    "plt.title('Correlation between Discount and Sale')\n",
    "plt.xlabel('Discount')\n",
    "plt.ylabel('Sales')\n",
    "plt.grid(True)\n",
    "plt.show()\n"
   ]
  },
  {
   "cell_type": "code",
   "execution_count": null,
   "id": "ead0f894",
   "metadata": {},
   "outputs": [],
   "source": []
  }
 ],
 "metadata": {
  "kernelspec": {
   "display_name": "Python 3 (ipykernel)",
   "language": "python",
   "name": "python3"
  },
  "language_info": {
   "codemirror_mode": {
    "name": "ipython",
    "version": 3
   },
   "file_extension": ".py",
   "mimetype": "text/x-python",
   "name": "python",
   "nbconvert_exporter": "python",
   "pygments_lexer": "ipython3",
   "version": "3.11.4"
  }
 },
 "nbformat": 4,
 "nbformat_minor": 5
}
